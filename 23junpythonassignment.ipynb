{
 "cells": [
  {
   "cell_type": "code",
   "execution_count": 1,
   "id": "79ce5fa1-ab8b-433c-9ec1-64ad4c8f6aab",
   "metadata": {},
   "outputs": [
    {
     "name": "stdout",
     "output_type": "stream",
     "text": [
      "1\n",
      "2\n",
      "3\n",
      "4\n",
      "5\n",
      "6\n",
      "7\n",
      "8\n",
      "9\n",
      "10\n"
     ]
    }
   ],
   "source": [
    "#pythonassig\n",
    "\n",
    "#Write a Python program to print numbers from 1 to 10 using a for loop.\n",
    "\n",
    "for i in range(1,11):\n",
    "    print(i)\n"
   ]
  },
  {
   "cell_type": "code",
   "execution_count": 2,
   "id": "b5460fa6-83e7-43a5-b267-fc698ae41085",
   "metadata": {},
   "outputs": [
    {
     "name": "stdout",
     "output_type": "stream",
     "text": [
      "1\n",
      "2\n",
      "3\n",
      "0\n",
      "1\n",
      "2\n"
     ]
    }
   ],
   "source": [
    "#Explain the difference between a for loop and a while loop in Python.\n",
    "\n",
    "#answer\n",
    "#for loop\n",
    "#Designed for iterating over a sequence (like a list, tuple, string, generator, or range). You know up front how many times it will run—one per element in the iterable\n",
    "for item in [1,2,3]:\n",
    "    print(item)\n",
    "#while loop\n",
    "#Runs as long as a certain condition remains true. The number of iterations isn’t predetermined\n",
    "count = 0\n",
    "while count < 3:\n",
    "    print(count)\n",
    "    count += 1"
   ]
  },
  {
   "cell_type": "code",
   "execution_count": 4,
   "id": "c9e2412c-46ff-4f29-b4a9-9caf10bdcdd5",
   "metadata": {},
   "outputs": [
    {
     "name": "stdout",
     "output_type": "stream",
     "text": [
      "5050\n"
     ]
    }
   ],
   "source": [
    "#Write a Python program to calculate the sum of all numbers from 1 to 100 using a for loop.\n",
    "sum = 0\n",
    "for i in range(1,101):\n",
    "    sum = sum + i\n",
    "\n",
    "print(sum)"
   ]
  },
  {
   "cell_type": "code",
   "execution_count": 5,
   "id": "38d88609-49db-40ba-a8d9-49b824e57239",
   "metadata": {},
   "outputs": [
    {
     "name": "stdout",
     "output_type": "stream",
     "text": [
      "apple\n",
      "banana\n",
      "cherry\n"
     ]
    }
   ],
   "source": [
    "# 4How do you iterate through a list using a for loop in Python?\n",
    "fruits = [\"apple\", \"banana\", \"cherry\"]\n",
    "\n",
    "for fruit in fruits:\n",
    "    print(fruit)\n",
    "\n"
   ]
  },
  {
   "cell_type": "code",
   "execution_count": 6,
   "id": "735644d1-0e46-48b0-9d44-875b1e00ce44",
   "metadata": {},
   "outputs": [
    {
     "name": "stdout",
     "output_type": "stream",
     "text": [
      "120\n"
     ]
    }
   ],
   "source": [
    "#Write a Python program to find the product of all elements in a list using a for loop.\n",
    "\n",
    "def product_of_list(numbers):\n",
    "    product = 1\n",
    "    for num in numbers:\n",
    "        product *= num\n",
    "    return product\n",
    "\n",
    "# Example usage:\n",
    "my_list = [2, 3, 4, 5]\n",
    "print(product_of_list(my_list))  # Output: 120\n",
    "\n"
   ]
  },
  {
   "cell_type": "code",
   "execution_count": 8,
   "id": "23557f78-48db-4051-8393-56c964360552",
   "metadata": {},
   "outputs": [
    {
     "name": "stdout",
     "output_type": "stream",
     "text": [
      "2 4 6 8 10 12 14 16 18 20 "
     ]
    }
   ],
   "source": [
    "#Create a Python program that prints all even numbers from 1 to 20 using a for loop.\n",
    "for i in range(1,21):\n",
    "    if i%2 ==0:\n",
    "        print(i,end=\" \")"
   ]
  },
  {
   "cell_type": "code",
   "execution_count": 14,
   "id": "e01fa715-6ef5-4957-9af6-3503d8e5bf7e",
   "metadata": {},
   "outputs": [
    {
     "name": "stdin",
     "output_type": "stream",
     "text": [
      "enter the number 5\n"
     ]
    },
    {
     "name": "stdout",
     "output_type": "stream",
     "text": [
      "120\n"
     ]
    }
   ],
   "source": [
    "#Write a Python program that calculates the factorial of a number using a for loop.\n",
    "n = int(input(\"enter the number\"))\n",
    "fact = 1\n",
    "for i in range(1,n+1):\n",
    "    fact *= i\n",
    "print(fact)\n",
    "    "
   ]
  },
  {
   "cell_type": "code",
   "execution_count": 15,
   "id": "8e706c54-fc52-4962-824b-6e3d514f9605",
   "metadata": {},
   "outputs": [
    {
     "name": "stdout",
     "output_type": "stream",
     "text": [
      "p w s k i l l s "
     ]
    }
   ],
   "source": [
    "#How can you iterate through the characters of a string using a for loop in Python?\n",
    "\n",
    "a = \"pwskills\"\n",
    "for i in a:\n",
    "    print(i,end = \" \")"
   ]
  },
  {
   "cell_type": "code",
   "execution_count": 22,
   "id": "e014a129-288c-4e96-ac42-07a61f3ba02c",
   "metadata": {},
   "outputs": [
    {
     "name": "stdout",
     "output_type": "stream",
     "text": [
      "56\n"
     ]
    }
   ],
   "source": [
    "#Write a Python program to find the largest number in a list using a for loop.\n",
    "a = [1,2,3,4,5,56,6,6]\n",
    "largest = a[0]\n",
    "\n",
    "for i in a:\n",
    "    if i >= largest:\n",
    "        largest = i\n",
    "print(largest)"
   ]
  },
  {
   "cell_type": "code",
   "execution_count": 25,
   "id": "b3e5d4d4-e80a-4c3f-9135-40ccdbe15d02",
   "metadata": {},
   "outputs": [
    {
     "name": "stdin",
     "output_type": "stream",
     "text": [
      "enter a number 20\n"
     ]
    },
    {
     "name": "stdout",
     "output_type": "stream",
     "text": [
      "[0, 1, 1, 2, 3, 5, 8, 13, 21, 34, 55, 89, 144, 233, 377, 610, 987, 1597, 2584, 4181, 6765]\n"
     ]
    }
   ],
   "source": [
    "#Create a Python program that prints the Fibonacci sequence up to a specified limit using a for loop.\n",
    "a = int(input(\"enter a number\"))\n",
    "\n",
    "fib1 = 0\n",
    "fib2 = 1\n",
    "l = []\n",
    "for i in range(a+1):\n",
    "    l.append(fib1)\n",
    "    fib1,fib2 = fib2,(fib1 + fib2)\n",
    "\n",
    "print(l)\n",
    "    "
   ]
  },
  {
   "cell_type": "code",
   "execution_count": 3,
   "id": "6f76421a-98fd-407a-8fec-9113794b0e94",
   "metadata": {},
   "outputs": [
    {
     "name": "stdout",
     "output_type": "stream",
     "text": [
      "1\n"
     ]
    }
   ],
   "source": [
    "# Write a Python program to count the number of vowels in a given string using a for loop.\n",
    "a = \"raj\"\n",
    "vowels = \"aeiou\"\n",
    "count = 0\n",
    "\n",
    "for i in a:\n",
    "    if i in vowels:\n",
    "        count += 1\n",
    "\n",
    "print(count)"
   ]
  },
  {
   "cell_type": "code",
   "execution_count": 6,
   "id": "6742c4cd-be2f-49b6-a224-dd6701f52167",
   "metadata": {},
   "outputs": [
    {
     "name": "stdin",
     "output_type": "stream",
     "text": [
      "Enter a number 20\n"
     ]
    },
    {
     "name": "stdout",
     "output_type": "stream",
     "text": [
      "20 * 1 = 20\n",
      "20 * 2 = 40\n",
      "20 * 3 = 60\n",
      "20 * 4 = 80\n",
      "20 * 5 = 100\n",
      "20 * 6 = 120\n",
      "20 * 7 = 140\n",
      "20 * 8 = 160\n",
      "20 * 9 = 180\n",
      "20 * 10 = 200\n"
     ]
    }
   ],
   "source": [
    "#Create a Python program that generates a multiplication table for a given number using a for loop.\n",
    "a = int(input(\"Enter a number\"))\n",
    "for i in range(1,11):\n",
    "    print(f\"{a} * {i} = {a*i}\")\n",
    "\n"
   ]
  },
  {
   "cell_type": "code",
   "execution_count": 8,
   "id": "fc2ba6c4-cb82-4df7-912f-49d46408fc3f",
   "metadata": {},
   "outputs": [
    {
     "name": "stdout",
     "output_type": "stream",
     "text": [
      "[6, 5, 4, 3, 2, 1]\n"
     ]
    }
   ],
   "source": [
    "#Write a Python program to reverse a list using a for loop.\n",
    "l = [1,2,3,4,5,6]\n",
    "z = []\n",
    "for i in l[::-1]:\n",
    "    z.append(i)\n",
    "print(z)\n",
    "    "
   ]
  },
  {
   "cell_type": "code",
   "execution_count": 10,
   "id": "a2b0198f-78fe-4109-9242-2f9c67376ca2",
   "metadata": {},
   "outputs": [
    {
     "name": "stdout",
     "output_type": "stream",
     "text": [
      "[2, 3, 4, 5]\n"
     ]
    }
   ],
   "source": [
    "#Write a Python program to find the common elements between two lists using a for loop.\n",
    "\n",
    "a = [2,3,4,5,6,6]\n",
    "b = [1,2,3,4,5]\n",
    "c = []\n",
    "for i in a:\n",
    "    if i in b and i not in c: # not in c for avoid duplicates\n",
    "        c.append(i)\n",
    "\n",
    "print(c)"
   ]
  },
  {
   "cell_type": "code",
   "execution_count": 12,
   "id": "469fc388-d8e7-41b4-8ae2-0af3413e1ace",
   "metadata": {},
   "outputs": [
    {
     "name": "stdout",
     "output_type": "stream",
     "text": [
      "name deepak\n",
      "phoneNo 74896\n",
      "course data science\n"
     ]
    }
   ],
   "source": [
    "#Explain how to use a for loop to iterate through the keys and values of a dictionary in Python.\n",
    "\n",
    "dict = { \"name\":\"deepak\",\"phoneNo\":74896,\"course\":\"data science\"}\n",
    "for key,values in dict.items():\n",
    "    print(key,values)"
   ]
  },
  {
   "cell_type": "code",
   "execution_count": 18,
   "id": "e34e924a-e5d3-4365-ba6b-d71bf5a29bfd",
   "metadata": {},
   "outputs": [
    {
     "name": "stdin",
     "output_type": "stream",
     "text": [
      "enter a number 27\n",
      "enter a number 30\n"
     ]
    },
    {
     "name": "stdout",
     "output_type": "stream",
     "text": [
      "3\n"
     ]
    }
   ],
   "source": [
    "#Write a Python program to find the GCD (Greatest Common Divisor) of two numbers using a for loop.\n",
    "\n",
    "num1 = int(input(\"enter a number\"))\n",
    "num2 = int(input(\"enter a number\"))\n",
    "\n",
    "min_num = min(num1,num2)\n",
    "\n",
    "gcd = 1\n",
    "\n",
    "for i in range(1,min_num +1):\n",
    "    if num1%i ==0 and num2%i ==0:\n",
    "        gcd = i\n",
    "\n",
    "print(gcd)"
   ]
  },
  {
   "cell_type": "code",
   "execution_count": 39,
   "id": "9d71bcbf-2a8f-4479-ab6b-1fdcfd19a4a5",
   "metadata": {},
   "outputs": [
    {
     "name": "stdin",
     "output_type": "stream",
     "text": [
      "Enter a string madam\n"
     ]
    },
    {
     "name": "stdout",
     "output_type": "stream",
     "text": [
      "Yes it's a palindrome\n"
     ]
    }
   ],
   "source": [
    "#Create a Python program that checks if a string is a palindrome using a for loop.\n",
    "\n",
    "a = input(\"Enter a string\")\n",
    "is_palindrome = True\n",
    "for i in range(len(a)//2):\n",
    "    if a[i] != a[-(i +1)]:\n",
    "        is_palindrome = False\n",
    "        break\n",
    "if is_palindrome:\n",
    "    print(\"Yes it's a palindrome\")\n",
    "else:\n",
    "     print(\"No it's not a palindrome\")"
   ]
  },
  {
   "cell_type": "code",
   "execution_count": 43,
   "id": "e421278d-b9bc-4712-b169-8fb10093d45e",
   "metadata": {},
   "outputs": [
    {
     "name": "stdout",
     "output_type": "stream",
     "text": [
      "[1, 2, 3, 4, 5]\n"
     ]
    }
   ],
   "source": [
    "# Write a Python program to remove duplicates from a list using a for loop.\n",
    "a = [1,2,3,4,5,4,5,4,5]\n",
    "\n",
    "b = []\n",
    "for i in a:\n",
    "    if i not in b :\n",
    "        b.append(i)\n",
    "\n",
    "print(b)\n",
    "    \n"
   ]
  },
  {
   "cell_type": "code",
   "execution_count": 45,
   "id": "36035e7e-802d-46f9-814e-dc59433b47b0",
   "metadata": {},
   "outputs": [
    {
     "name": "stdout",
     "output_type": "stream",
     "text": [
      "5\n"
     ]
    }
   ],
   "source": [
    "#Create a Python program that counts the number of words in a sentence using a for loop.\n",
    "a = \"ready to go to shcool\"\n",
    "count=0\n",
    "\n",
    "for i in a.split():\n",
    "    count += 1\n",
    "\n",
    "print(count)\n",
    "    "
   ]
  },
  {
   "cell_type": "code",
   "execution_count": 46,
   "id": "63daa774-1ed0-4171-9f41-a6880176a946",
   "metadata": {},
   "outputs": [
    {
     "name": "stdout",
     "output_type": "stream",
     "text": [
      "625\n"
     ]
    }
   ],
   "source": [
    "#Write a Python program to find the sum of all odd numbers from 1 to 50 using a for loop\n",
    "\n",
    "count = 0\n",
    "for i in range(1,51):\n",
    "    if i%2!=0:\n",
    "        count = count + i\n",
    "\n",
    "print(count)"
   ]
  },
  {
   "cell_type": "code",
   "execution_count": 47,
   "id": "4191ee9d-23ef-4a0a-99d7-b932facfd168",
   "metadata": {},
   "outputs": [
    {
     "name": "stdin",
     "output_type": "stream",
     "text": [
      "Enter a number:  25\n"
     ]
    },
    {
     "name": "stdout",
     "output_type": "stream",
     "text": [
      "The approximate square root of 25.0 is 5.0\n"
     ]
    }
   ],
   "source": [
    "# Create a Python program that calculates the square root of a number using a for loop.\n",
    "\n",
    "number = float(input(\"Enter a number: \"))\n",
    "guess = 0.0\n",
    "step = 0.0001   # The smaller the step, the more precise\n",
    "max_guess = number if number >= 1 else 1  # So we don’t loop forever for small numbers\n",
    "\n",
    "for i in range(int(max_guess / step)):\n",
    "    if abs(guess ** 2 - number) < 0.0001:  # Close enough\n",
    "        break\n",
    "    guess += step\n",
    "\n",
    "print(f\"The approximate square root of {number} is {round(guess, 4)}\")"
   ]
  },
  {
   "cell_type": "code",
   "execution_count": null,
   "id": "51d0007e-ff50-456d-b2e7-d3d0d134831c",
   "metadata": {},
   "outputs": [],
   "source": [
    "#Write a Python program to find the LCM (Least Common Multiple) of two numbers using a for loop.\n",
    "\n",
    "# Input two numbers\n",
    "num1 = int(input(\"Enter the first number: \"))\n",
    "num2 = int(input(\"Enter the second number: \"))\n",
    "\n",
    "# Find the greater of the two numbers to start the loop\n",
    "if num1 > num2:\n",
    "    greater = num1\n",
    "else:\n",
    "    greater = num2\n",
    "\n",
    "# Loop to find the LCM\n",
    "for i in range(greater, (num1 * num2) + 1):\n",
    "    if i % num1 == 0 and i % num2 == 0:\n",
    "        lcm = i\n",
    "        break\n",
    "\n",
    "print(f\"The LCM of {num1} and {num2} is {lcm}\")\n"
   ]
  },
  {
   "cell_type": "code",
   "execution_count": 50,
   "id": "93e049be-ecef-4ec7-8ca8-0323fb875335",
   "metadata": {},
   "outputs": [
    {
     "name": "stdout",
     "output_type": "stream",
     "text": [
      "x is greater than y\n"
     ]
    }
   ],
   "source": [
    "#if else\n",
    "\n",
    "x = 10\n",
    "y = 5\n",
    "\n",
    "if x > y:\n",
    "    assert x > y, \"x should be greater than y\"\n",
    "    print(\"x is greater than y\")\n",
    "else:\n",
    "    assert x <= y, \"x should not be greater than y\"\n",
    "    print(\"x is not greater than y\")\n"
   ]
  },
  {
   "cell_type": "code",
   "execution_count": 55,
   "id": "4691588a-7d15-45b1-92ca-51f52a6628a3",
   "metadata": {},
   "outputs": [
    {
     "name": "stdin",
     "output_type": "stream",
     "text": [
      "Enter coefficient a:  12\n",
      "Enter coefficient b:  12\n",
      "Enter coefficient c:  21\n"
     ]
    },
    {
     "name": "stdout",
     "output_type": "stream",
     "text": [
      "The equation has two complex roots: -0.5+1.2247448713915892i and -0.5-1.2247448713915892i\n"
     ]
    }
   ],
   "source": [
    "import math\n",
    "\n",
    "# Input coefficients\n",
    "a = float(input(\"Enter coefficient a: \"))\n",
    "b = float(input(\"Enter coefficient b: \"))\n",
    "c = float(input(\"Enter coefficient c: \"))\n",
    "\n",
    "# Check if it's a quadratic equation\n",
    "if a == 0:\n",
    "    print(\"This is not a quadratic equation.\")\n",
    "else:\n",
    "    # Calculate the discriminant\n",
    "    discriminant = b**2 - 4*a*c\n",
    "\n",
    "    # Determine the nature of the roots\n",
    "    if discriminant > 0:\n",
    "        root1 = (-b + math.sqrt(discriminant)) / (2*a)\n",
    "        root2 = (-b - math.sqrt(discriminant)) / (2*a)\n",
    "        print(f\"The equation has two real and distinct roots: {root1} and {root2}\")\n",
    "    elif discriminant == 0:\n",
    "        root = -b / (2*a)\n",
    "        print(f\"The equation has one real and repeated root: {root}\")\n",
    "    else:\n",
    "        real_part = -b / (2*a)\n",
    "        imaginary_part = math.sqrt(-discriminant) / (2*a)\n",
    "        print(f\"The equation has two complex roots: {real_part}+{imaginary_part}i and {real_part}-{imaginary_part}i\")\n",
    "\n"
   ]
  },
  {
   "cell_type": "code",
   "execution_count": 56,
   "id": "f55b3227-92f7-461e-b306-0e291fae7d98",
   "metadata": {},
   "outputs": [
    {
     "name": "stdin",
     "output_type": "stream",
     "text": [
      "Enter your weight in kilograms:  12\n",
      "Enter your height in meters:  22\n"
     ]
    },
    {
     "name": "stdout",
     "output_type": "stream",
     "text": [
      "Your BMI is: 0.02\n",
      "You are underweight.\n"
     ]
    }
   ],
   "source": [
    "#Create a Python program that calculates the BMI (Body Mass Index) of a person based on their weight and height using if-else.\n",
    "# BMI Calculator\n",
    "\n",
    "# Input weight and height\n",
    "weight = float(input(\"Enter your weight in kilograms: \"))\n",
    "height = float(input(\"Enter your height in meters: \"))\n",
    "\n",
    "# Calculate BMI\n",
    "bmi = weight / (height ** 2)\n",
    "\n",
    "# Output the BMI value\n",
    "print(f\"Your BMI is: {bmi:.2f}\")\n",
    "\n",
    "# Determine BMI category\n",
    "if bmi < 18.5:\n",
    "    print(\"You are underweight.\")\n",
    "elif 18.5 <= bmi < 24.9:\n",
    "    print(\"You have a normal weight.\")\n",
    "elif 25 <= bmi < 29.9:\n",
    "    print(\"You are overweight.\")\n",
    "else:\n",
    "    print(\"You are obese.\")\n"
   ]
  },
  {
   "cell_type": "code",
   "execution_count": 57,
   "id": "1d287473-8f80-419f-8caa-a82013cbf635",
   "metadata": {},
   "outputs": [
    {
     "name": "stdout",
     "output_type": "stream",
     "text": [
      "[2, 4, 11, 13, 16, 17]\n"
     ]
    }
   ],
   "source": [
    "#How can you use the \"filter()\" function with if-else statements to filter elements from a list?\n",
    "\n",
    "numbers = [1, 2, 3, 4, 11, 13, 16, 17]\n",
    "filtered_numbers = list(filter(lambda x: True if x % 2 == 0 or x > 10 else False, numbers))\n",
    "print(filtered_numbers)"
   ]
  },
  {
   "cell_type": "code",
   "execution_count": 58,
   "id": "cccca225-eb24-409a-8d9b-a3434feb004c",
   "metadata": {},
   "outputs": [
    {
     "name": "stdout",
     "output_type": "stream",
     "text": [
      "[32.0, 50.0, 68.0, 86.0]\n"
     ]
    }
   ],
   "source": [
    "\n",
    "# Explain the purpose of the `map()` function in Python and provide an example of how it can be used to apply a function to each element of an iterable.\n",
    "celsius = [0, 10, 20, 30]\n",
    "fahrenheit = list(map(lambda c: (c * 9/5) + 32, celsius))\n",
    "print(fahrenheit)"
   ]
  },
  {
   "cell_type": "code",
   "execution_count": 60,
   "id": "3cf7f9f3-2385-4cea-b334-73170dac2661",
   "metadata": {},
   "outputs": [
    {
     "name": "stdout",
     "output_type": "stream",
     "text": [
      "[1, 9, 16, 25, 36]\n"
     ]
    }
   ],
   "source": [
    "#Write a Python program that uses the `map()` function to square each element of a list of numbers\n",
    "li = [1,3,4,5,6]\n",
    "def sqr(x):\n",
    "    return x*x\n",
    "\n",
    "square = list(map(sqr,li))\n",
    "print(square)"
   ]
  },
  {
   "cell_type": "code",
   "execution_count": 63,
   "id": "89781a84-4251-4dc8-a2d6-f6223d1110ac",
   "metadata": {},
   "outputs": [
    {
     "name": "stdout",
     "output_type": "stream",
     "text": [
      "[1, 4, 9, 16]\n"
     ]
    }
   ],
   "source": [
    "# How does the `map()` function differ from a list comprehension in Python, and when would you choose one over the other?\n",
    "\"\"\"\n",
    "Feature\tmap()\tList Comprehension\n",
    "Syntax Style\tFunctional programming style\tPythonic and more readable in many cases\n",
    "Function Type\tRequires a function (named or lambda)\tAllows inline logic without needing a function\n",
    "Multiple Iterables\tCan map across multiple iterables\tList comprehensions need zip() for this\n",
    "Readability\tCan be less readable for complex logic\tOften clearer and more intuitive\n",
    "Performance\tSlightly faster in some cases (no syntax overhead)\tUsually negligible difference in real use\"\"\"\n",
    "\n",
    "\n",
    "def square(x):\n",
    "    return x * x\n",
    "\n",
    "nums = [1, 2, 3, 4]\n",
    "result = list(map(square, nums))\n",
    "print(result)\n",
    "\n",
    "\n",
    "nums = [1, 2, 3, 4]\n",
    "result = [x * x for x in nums]\n",
    "\n",
    "\n",
    "\"\"\" \n",
    " When to Choose Which?\n",
    "✅ Use map() when:\n",
    "You already have a reusable function to apply.\n",
    "\n",
    "You're working with multiple iterables.\n",
    "\n",
    "You're in a codebase that favors functional programming.\n",
    "\n",
    "✅ Use list comprehension when:\n",
    "You're writing short, clear transformations.\n",
    "\n",
    "You want more readable and Pythonic code.\n",
    "\n",
    "You may need if/else conditions inside the transformation.\n",
    "\n",
    "\"\"\"\n",
    "\n"
   ]
  },
  {
   "cell_type": "code",
   "execution_count": 65,
   "id": "3bbd85aa-be84-452c-8852-a6ddd1e650ef",
   "metadata": {},
   "outputs": [
    {
     "name": "stdout",
     "output_type": "stream",
     "text": [
      "['DEEPAK', 'RAJ', 'JAI', 'AHUTOSH']\n"
     ]
    }
   ],
   "source": [
    "# Create a Python program that uses the `map()` function to convert a list of names to uppercase.\n",
    "\n",
    "li = [\"deepak\",\"raj\",\"jai\",\"ahutosh\"]\n",
    "\n",
    "upperlist = list(map(lambda x : x.upper(),li))\n",
    "print(upperlist)\n",
    "\n",
    "\n",
    "\n"
   ]
  },
  {
   "cell_type": "code",
   "execution_count": 66,
   "id": "ff8caf69-3c7c-4db3-8182-f5cb03deadbd",
   "metadata": {},
   "outputs": [
    {
     "name": "stdout",
     "output_type": "stream",
     "text": [
      "[6, 3, 3, 7]\n"
     ]
    }
   ],
   "source": [
    "#Write a Python program that uses the `map()` function to calculate the length of each word in a list of strings.\n",
    "\n",
    "li = [\"deepak\",\"raj\",\"jai\",\"ahutosh\"]\n",
    "\n",
    "lengthofword = list(map(lambda x:len(x),li))\n",
    "print(lengthofword)\n",
    "\n",
    "\n",
    "\n",
    "\n"
   ]
  },
  {
   "cell_type": "code",
   "execution_count": null,
   "id": "4d5da225-2bf4-4fb3-a1f6-fd4eb714b7f8",
   "metadata": {},
   "outputs": [],
   "source": [
    "#How can you use the `map()` function to apply a custom function to elements of multiple lists simultaneously in Python?\n",
    "\n",
    "\n",
    "list1 = [1, 2, 3]\n",
    "list2 = [4, 5, 6]\n",
    "\n",
    "# Custom function to add two numbers\n",
    "def add(x, y):\n",
    "    return x + y\n",
    "\n",
    "# Apply the add function to both lists using map\n",
    "result = list(map(add, list1, list2))\n",
    "\n",
    "print(result)\n"
   ]
  },
  {
   "cell_type": "code",
   "execution_count": 67,
   "id": "53410cec-053b-453c-9e84-e43233e27699",
   "metadata": {},
   "outputs": [
    {
     "name": "stdout",
     "output_type": "stream",
     "text": [
      "[1, 4, 4, 7, 9]\n"
     ]
    }
   ],
   "source": [
    "#Write a Python program that uses the `map()` function to round each element of a list of floating-point numbers to the nearest integer.\n",
    "\n",
    "float_numbers = [1.2, 3.7, 4.5, 6.9, 9.1]\n",
    "\n",
    "# Use map() with the built-in round() function\n",
    "rounded_numbers = list(map(round, float_numbers))\n",
    "\n",
    "# Print the result\n",
    "print(rounded_numbers)"
   ]
  },
  {
   "cell_type": "code",
   "execution_count": 68,
   "id": "5581ffb9-cc1c-4874-b4e2-fb93bd28ef0d",
   "metadata": {},
   "outputs": [
    {
     "name": "stdout",
     "output_type": "stream",
     "text": [
      "15\n"
     ]
    }
   ],
   "source": [
    "#reduce built in function\n",
    "\n",
    "#What is the `reduce()` function in Python, and what module should you import to use it? Provide an example of its basic usage.\n",
    "\n",
    "#To use reduce(), you must import it from the functools module:\n",
    "\n",
    "from functools import reduce\n",
    "\n",
    "\n",
    "numbers = [1, 2, 3, 4, 5]\n",
    "\n",
    "# Function to add two numbers\n",
    "def add(x, y):\n",
    "    return x + y\n",
    "\n",
    "# Use reduce to compute the sum\n",
    "result = reduce(add, numbers)\n",
    "\n",
    "print(result)\n"
   ]
  },
  {
   "cell_type": "code",
   "execution_count": 69,
   "id": "266d7c82-44c3-4718-b479-612d9a3cb170",
   "metadata": {},
   "outputs": [
    {
     "name": "stdout",
     "output_type": "stream",
     "text": [
      "15\n"
     ]
    }
   ],
   "source": [
    "#Write a Python program that uses the `reduce()` function to find the product of all elements in a list.\n",
    "\n",
    "from functools import reduce\n",
    "\n",
    "\n",
    "numbers = [1, 2, 3, 4, 5]\n",
    "\n",
    "# Function to add two numbers\n",
    "def add(x, y):\n",
    "    return x + y\n",
    "\n",
    "# Use reduce to compute the sum\n",
    "result = reduce(add, numbers)\n",
    "\n",
    "print(result)\n"
   ]
  },
  {
   "cell_type": "code",
   "execution_count": 70,
   "id": "3c9ae59f-5b13-41b1-b8e3-95e8e46e7251",
   "metadata": {},
   "outputs": [
    {
     "name": "stdout",
     "output_type": "stream",
     "text": [
      "777\n"
     ]
    }
   ],
   "source": [
    "# Create a Python program that uses `reduce()` to find the maximum element in a list of numbers.\n",
    "l = [2,34,5,66,6,777,7]\n",
    "result= reduce(lambda x,y:x if x > y else y,l)\n",
    "print(result)"
   ]
  },
  {
   "cell_type": "code",
   "execution_count": 79,
   "id": "e190c63d-3cb5-4520-86dd-cbf56a275f5a",
   "metadata": {},
   "outputs": [
    {
     "name": "stdout",
     "output_type": "stream",
     "text": [
      "ready to go school\n"
     ]
    }
   ],
   "source": [
    "# How can you use the `reduce()` function to concatenate a list of strings into a single string?\n",
    "\n",
    "l2 = [\"ready\" , \"to\", \"go\" ,\"school\"]\n",
    "\n",
    "result = reduce(lambda x ,y:x+\" \"+y, l2)\n",
    "print(result)"
   ]
  },
  {
   "cell_type": "code",
   "execution_count": 82,
   "id": "28c4663a-9092-4599-8039-6f842d8ed6db",
   "metadata": {},
   "outputs": [
    {
     "name": "stdin",
     "output_type": "stream",
     "text": [
      "Enter a non-negative integer:  5\n"
     ]
    },
    {
     "name": "stdout",
     "output_type": "stream",
     "text": [
      "Factorial of 5 is 120\n"
     ]
    }
   ],
   "source": [
    "# Write a Python program that calculates the factorial of a number using the `reduce()` function\n",
    "\n",
    "from functools import reduce\n",
    "\n",
    "# Input number from user\n",
    "n = int(input(\"Enter a non-negative integer: \"))\n",
    "\n",
    "if n < 0:\n",
    "    print(\"Factorial is not defined for negative numbers.\")\n",
    "elif n == 0 or n == 1:\n",
    "    print(f\"Factorial of {n} is 1\")\n",
    "else:\n",
    "    # Calculate factorial using reduce\n",
    "    factorial = reduce(lambda x, y: x * y, range(1, n + 1))\n",
    "    print(f\"Factorial of {n} is {factorial}\")\n",
    "\n",
    "\n"
   ]
  },
  {
   "cell_type": "code",
   "execution_count": null,
   "id": "402c506e-81ce-4390-89e9-3d9cd9bca63f",
   "metadata": {},
   "outputs": [],
   "source": [
    "# Create a Python program that uses `reduce()` to find the GCD (Greatest Common Divisor) of a list of numbers.\n",
    "\n",
    "# List of numbers\n",
    "numbers = [24, 36, 48, 60]\n",
    "\n",
    "# Use reduce with math.gcd to find the GCD of the entire list\n",
    "gcd_result = reduce(math.gcd, numbers)\n",
    "\n",
    "print(f\"The GCD of {numbers} is {gcd_result}\")"
   ]
  },
  {
   "cell_type": "code",
   "execution_count": 85,
   "id": "4fe3c71c-894d-46a6-a097-ebfa9d23be9e",
   "metadata": {},
   "outputs": [
    {
     "name": "stdin",
     "output_type": "stream",
     "text": [
      "Enter a number 1234\n"
     ]
    },
    {
     "name": "stdout",
     "output_type": "stream",
     "text": [
      "10\n"
     ]
    }
   ],
   "source": [
    "# Write a Python program that uses the `reduce()` function to find the sum of the digits of a given number.\n",
    "\n",
    "str = input(\"Enter a number\")\n",
    "\n",
    "result = reduce(lambda x,b:x+b,map(int,str))\n",
    "print(result)"
   ]
  },
  {
   "cell_type": "code",
   "execution_count": null,
   "id": "af4b63e3-8f7e-4e53-a242-298eeced92a7",
   "metadata": {},
   "outputs": [],
   "source": [
    "# filter function\n",
    "\n",
    "#Explain the purpose of the `filter()` function in Python and provide an example of how it can be used to filter elements from an iterable.\n",
    "\n",
    "\"\"\" The filter() function is used to filter elements from an iterable (like a list, tuple, etc.) based on a condition. It takes two arguments:\n",
    "\n",
    "A function that returns True or False for each element.\n",
    "\n",
    "An iterable whose elements are tested by the function.\n",
    "\n",
    "filter() returns an iterator that includes only those elements for which the function returns True\"\"\"\n",
    "\n"
   ]
  },
  {
   "cell_type": "code",
   "execution_count": 86,
   "id": "78449735-17f5-44ca-8a1f-40c62b869a09",
   "metadata": {},
   "outputs": [
    {
     "name": "stdout",
     "output_type": "stream",
     "text": [
      "[2, 4, 6, 8]\n"
     ]
    }
   ],
   "source": [
    "# Write a Python program that uses the `filter()` function to select even numbers from a list of integers.\n",
    "\n",
    "# Function to check if a number is even\n",
    "def is_even(num):\n",
    "    return num % 2 == 0\n",
    "\n",
    "numbers = [1, 2, 3, 4, 5, 6, 7, 8]\n",
    "\n",
    "# Filter even numbers using filter()\n",
    "even_numbers = list(filter(is_even, numbers))\n",
    "\n",
    "print(even_numbers)\n",
    "\n",
    "\n",
    "\n"
   ]
  },
  {
   "cell_type": "code",
   "execution_count": 112,
   "id": "473576f1-6037-4822-af7d-6dc81fb388e7",
   "metadata": {},
   "outputs": [
    {
     "name": "stdout",
     "output_type": "stream",
     "text": [
      "[2, 3, 5, 7, 29]\n"
     ]
    }
   ],
   "source": [
    "# Write a Python program that uses the `filter()` function to select prime numbers from a list of integers.\n",
    "def prime_num(n):\n",
    "    \"\"\" check it is prime number\"\"\"\n",
    "    if n < 2:\n",
    "        return False\n",
    "    else:\n",
    "        for i in range(2,int(n**0.5)+1):\n",
    "            if n % i ==0:\n",
    "                return False\n",
    "        return True\n",
    "l = [1,2,3,4,5,6,7,29]\n",
    "result = list(filter(prime_num,l))\n",
    "print(result)"
   ]
  },
  {
   "cell_type": "code",
   "execution_count": 113,
   "id": "42956ca7-5b48-416b-90fc-48fb206ed2c6",
   "metadata": {},
   "outputs": [
    {
     "name": "stdout",
     "output_type": "stream",
     "text": [
      "[1, 5]\n"
     ]
    }
   ],
   "source": [
    "#How can you use the `filter()` function to remove None values from a list in Python?\n",
    "original = [1, None, 0, '', None, 5, False]\n",
    "filtered = list(filter(None, original))\n",
    "print(filtered)  # [1, 5]\n"
   ]
  },
  {
   "cell_type": "code",
   "execution_count": 137,
   "id": "1a05617b-bc75-4cb6-94ef-0d471eb2623e",
   "metadata": {},
   "outputs": [
    {
     "name": "stdin",
     "output_type": "stream",
     "text": [
      "Enter the desired minimum length:  4\n"
     ]
    },
    {
     "name": "stdout",
     "output_type": "stream",
     "text": [
      "Filtered words: ['jai', 'goal']\n"
     ]
    }
   ],
   "source": [
    "#Create a Python program that uses `filter()` to select words longer than a certain length from a list of strings.\n",
    "# Original list of strings\n",
    "l = [\"deepak\", \"ready\", \"jai\", \"veery\", \"goal\"]\n",
    "\n",
    "def select_by_length(words):\n",
    "    b = int(input(\"Enter the desired minimum length: \"))\n",
    "    # Use filter to keep words whose length is >= b\n",
    "    return list(filter(lambda i: len(i) <= b, words))\n",
    "\n",
    "result = select_by_length(l)\n",
    "print(\"Filtered words:\", result)\n",
    "\n",
    "\n"
   ]
  },
  {
   "cell_type": "code",
   "execution_count": 138,
   "id": "db7f8ed7-b674-47a1-a939-353787a58356",
   "metadata": {},
   "outputs": [
    {
     "name": "stdin",
     "output_type": "stream",
     "text": [
      "Enter the threshold value:  5\n"
     ]
    },
    {
     "name": "stdout",
     "output_type": "stream",
     "text": [
      "Values greater than 5.0: [10, 12, 7, 15]\n"
     ]
    }
   ],
   "source": [
    "#Write a Python program that uses the `filter()` function to select elements greater than a specified threshold from a list of values.\n",
    "\n",
    "def filter_above_threshold(values, threshold):\n",
    "    return list(filter(lambda x: x > threshold, values))\n",
    "\n",
    "if __name__ == \"__main__\":\n",
    "    numbers = [3, 10, 5, 12, 7, 0, -2, 15]\n",
    "    t = float(input(\"Enter the threshold value: \"))\n",
    "    result = filter_above_threshold(numbers, t)\n",
    "    print(f\"Values greater than {t}: {result}\")"
   ]
  },
  {
   "cell_type": "code",
   "execution_count": null,
   "id": "e483a942-45c5-40e9-a4a9-e0c5338733cc",
   "metadata": {},
   "outputs": [],
   "source": [
    "# \n",
    "#Recursion:-\n",
    "\n",
    "\n",
    "#Explain the concept of recursion in Python. How does it differ from iteration?\n",
    "\n",
    "\"\"\"\" \n",
    "Recursion in Python is when a function calls itself to solve a problem by breaking it into smaller, similar subproblems. Here’s how it works—and what sets it apart from iteration:\n",
    "\n",
    " 1. What is recursion?\n",
    "A recursive function has two essential parts almost always:\n",
    "\n",
    "Base case – a condition under which the function stops calling itself.\n",
    "\n",
    "Recursive case – where it calls itself with a smaller or simpler version of the problem. \n",
    "reddit.com\n",
    "+9\n",
    "geeksforgeeks.org\n",
    "+9\n",
    "datacamp.com\n",
    "+9\n",
    "\n",
    "📘 Example: Factorial via recursion\n",
    "python\n",
    "Copy\n",
    "Edit\n",
    "def factorial(n):\n",
    "    if n == 0:\n",
    "        return 1            # base case\n",
    "    return n * factorial(n - 1)  # recursive call\n",
    "Here, factorial(5) → 5 * factorial(4), and so on until reaching factorial(0) = 1.\n",
    "\n",
    "Iteration uses loops (for or while) to repeat actions:\n",
    "\n",
    "python\n",
    "Copy\n",
    "Edit\n",
    "def factorial_iter(n):\n",
    "    result = 1\n",
    "    for i in range(1, n + 1):\n",
    "        result *= i\n",
    "    return result\n",
    "This computes the same result without any self-calls, using a loop instead.\n",
    "\n",
    "\"\"\"\n",
    "\n"
   ]
  },
  {
   "cell_type": "code",
   "execution_count": 142,
   "id": "08228006-23e0-4c12-8d38-bb3686853676",
   "metadata": {},
   "outputs": [
    {
     "data": {
      "text/plain": [
       "120"
      ]
     },
     "execution_count": 142,
     "metadata": {},
     "output_type": "execute_result"
    }
   ],
   "source": [
    "#Write a Python program to calculate the factorial of a number using recursion\n",
    "\n",
    "def fact(n):\n",
    "    if n == 0:\n",
    "        return 1\n",
    "    else:\n",
    "        return n * fact(n-1)\n",
    "\n",
    "fact(5)"
   ]
  },
  {
   "cell_type": "code",
   "execution_count": 143,
   "id": "f7b7b81d-36a6-49fe-88b5-253d952eb0a2",
   "metadata": {},
   "outputs": [
    {
     "name": "stdout",
     "output_type": "stream",
     "text": [
      "0\n",
      "1\n",
      "8\n",
      "55\n"
     ]
    }
   ],
   "source": [
    "# Create a recursive Python function to find the nth Fibonacci number.\n",
    "\n",
    "def fib(n):\n",
    "    \"\"\"\n",
    "    Return the nth Fibonacci number.\n",
    "    Sequence starts with:\n",
    "        fib(0) = 0\n",
    "        fib(1) = 1\n",
    "    Then fib(n) = fib(n-1) + fib(n-2) for n ≥ 2.\n",
    "    \"\"\"\n",
    "    # Validate input\n",
    "    if not isinstance(n, int) or n < 0:\n",
    "        raise ValueError(\"n must be a non-negative integer\")\n",
    "    # Base cases\n",
    "    if n <= 1:\n",
    "        return n\n",
    "    # Recursive case\n",
    "    return fib(n - 1) + fib(n - 2)\n",
    "\n",
    "# Example usage:\n",
    "print(fib(0))   # 0\n",
    "print(fib(1))   # 1\n",
    "print(fib(6))   # 8\n",
    "print(fib(10))  # 55\n"
   ]
  },
  {
   "cell_type": "code",
   "execution_count": 149,
   "id": "d148e84b-5995-4544-8ea0-359e99632b29",
   "metadata": {},
   "outputs": [
    {
     "name": "stdout",
     "output_type": "stream",
     "text": [
      "15\n"
     ]
    }
   ],
   "source": [
    "# Write a recursive Python function to calculate the sum of all elements in a list.\n",
    "def recursive_sum(lst):\n",
    "    \"\"\"\n",
    "    Recursively calculate the sum of all elements in the list.\n",
    "    Base case: empty list → return 0.\n",
    "    Recursive case: return first element + sum of the remaining list.\n",
    "    \"\"\"\n",
    "    if not lst:            # Base case\n",
    "        return 0\n",
    "    return lst[0] + recursive_sum(lst[1:])  # Recursive case\n",
    "\n",
    "# Example usage:\n",
    "numbers = [1, 2, 3, 4, 5]\n",
    "print(recursive_sum(numbers)) "
   ]
  },
  {
   "cell_type": "code",
   "execution_count": 151,
   "id": "ae9fa329-b970-4e9b-85cc-976bf2c5fda2",
   "metadata": {},
   "outputs": [
    {
     "name": "stdout",
     "output_type": "stream",
     "text": [
      "6\n"
     ]
    }
   ],
   "source": [
    "# Create a recursive Python function to find the greatest common divisor (GCD) of two numbers using the Euclidean algorithm.\n",
    "def gcd(a, b):\n",
    "    \"\"\"\n",
    "    Recursively compute the GCD of two numbers using the Euclidean algorithm.\n",
    "\n",
    "    Parameters:\n",
    "    a (int): First number.\n",
    "    b (int): Second number.\n",
    "\n",
    "    Returns:\n",
    "    int: GCD of a and b.\n",
    "    \"\"\"\n",
    "    if b == 0:\n",
    "        return a\n",
    "    return gcd(b, a % b)\n",
    "\n",
    "# Example usage:\n",
    "print(gcd(48, 18))\n",
    "\n"
   ]
  },
  {
   "cell_type": "code",
   "execution_count": 152,
   "id": "24bb0d03-0d3e-4458-94b0-a19cadc4c78b",
   "metadata": {},
   "outputs": [
    {
     "name": "stdout",
     "output_type": "stream",
     "text": [
      "Original string: Hello, World!\n",
      "Reversed string: !dlroW ,olleH\n"
     ]
    }
   ],
   "source": [
    "#Write a recursive Python function to reverse a string.\n",
    "\n",
    "def reverse_string(s):\n",
    "    \"\"\"\n",
    "    Recursively reverse a string.\n",
    "\n",
    "    Parameters:\n",
    "    s (str): The string to be reversed.\n",
    "\n",
    "    Returns:\n",
    "    str: The reversed string.\n",
    "    \"\"\"\n",
    "    if len(s) == 0:\n",
    "        return s\n",
    "    else:\n",
    "        return reverse_string(s[1:]) + s[0]\n",
    "\n",
    "# Example usage\n",
    "input_string = \"Hello, World!\"\n",
    "reversed_string = reverse_string(input_string)\n",
    "print(\"Original string:\", input_string)\n",
    "print(\"Reversed string:\", reversed_string)\n"
   ]
  },
  {
   "cell_type": "code",
   "execution_count": 154,
   "id": "a115ca13-b323-4821-bd84-912d74d0a9f7",
   "metadata": {},
   "outputs": [
    {
     "name": "stdout",
     "output_type": "stream",
     "text": [
      "8\n"
     ]
    }
   ],
   "source": [
    "#Create a recursive Python function to calculate the power of a number (x^n).\n",
    "def power(x, n):\n",
    "    \"\"\"\n",
    "    Recursively compute x raised to the power of n.\n",
    "\n",
    "    Parameters:\n",
    "    x (int or float): The base number.\n",
    "    n (int): The exponent.\n",
    "\n",
    "    Returns:\n",
    "    int or float: The result of x raised to the power of n.\n",
    "    \"\"\"\n",
    "    if n == 0:\n",
    "        return 1\n",
    "    elif n < 0:\n",
    "        return 1 / power(x, -n)\n",
    "    elif n % 2 == 0:\n",
    "        half = power(x, n // 2)\n",
    "        return half * half\n",
    "    else:\n",
    "        return x * power(x, n - 1)\n",
    "\n",
    "# Example usage\n",
    "print(power(2, 3)) \n"
   ]
  },
  {
   "cell_type": "code",
   "execution_count": null,
   "id": "caf2f34d-bf29-4334-9721-613b54d949f5",
   "metadata": {},
   "outputs": [],
   "source": [
    "#Write a recursive Python function to find all permutations of a given string.\n",
    "\n",
    "def permute(s):\n",
    "    \"\"\"\n",
    "    Return a list of all permutations of the string s.\n",
    "    \"\"\"\n",
    "    # Base case: single character (or empty) string has only itself as permutation\n",
    "    if len(s) <= 1:\n",
    "        return [s]\n",
    "    \n",
    "    permutations = []\n",
    "    # For each character in the string\n",
    "    for i, char in enumerate(s):\n",
    "        # Exclude the current character and permute the rest\n",
    "        remaining = s[:i] + s[i+1:]\n",
    "        for sub in permute(remaining):\n",
    "            permutations.append(char + sub)\n",
    "    \n",
    "    return permutations\n",
    "\n",
    "# Example usage:\n",
    "input_str = \"abc\"\n",
    "result = permute(input_str)\n",
    "print(result)\n",
    "# ➝ ['abc', 'acb', 'bac', 'bca', 'cab', 'cba']\n"
   ]
  },
  {
   "cell_type": "code",
   "execution_count": null,
   "id": "53afd158-70f3-4fed-a41c-ce9fcd881e9e",
   "metadata": {},
   "outputs": [],
   "source": [
    "# Write a recursive Python function to check if a string is a palindrome.\n",
    "\n",
    "def is_palindrome(s):\n",
    "    \"\"\"\n",
    "    Recursively check if `s` is a palindrome.\n",
    "    Returns True if it reads the same forwards and backwards.\n",
    "    \"\"\"\n",
    "    # Base cases: empty or single-character strings are palindromes\n",
    "    if len(s) <= 1:\n",
    "        return True\n",
    "    \n",
    "    # If the first and last characters don't match, it's not a palindrome\n",
    "    if s[0] != s[-1]:\n",
    "        return False\n",
    "    \n",
    "    # Otherwise, recurse on the substring excluding first and last char\n",
    "    return is_palindrome(s[1:-1])\n"
   ]
  },
  {
   "cell_type": "code",
   "execution_count": 155,
   "id": "340b31e0-50af-4c2b-ae3e-bf1dbc907c4d",
   "metadata": {},
   "outputs": [
    {
     "name": "stdout",
     "output_type": "stream",
     "text": [
      "[[1, 2], [1, 3], [1, 4], [2, 3], [2, 4], [3, 4]]\n"
     ]
    }
   ],
   "source": [
    "# Create a recursive Python function to generate all possible combinations of a list of elements.\n",
    "\n",
    "def combinations(lst, r):\n",
    "    \"\"\"\n",
    "    Return a list of all combinations of length r from lst.\n",
    "    \"\"\"\n",
    "    result = []\n",
    "\n",
    "    def helper(current, start):\n",
    "        # If current combination has reached desired length, save it\n",
    "        if len(current) == r:\n",
    "            result.append(current.copy())\n",
    "            return\n",
    "        # Otherwise, try adding each remaining element\n",
    "        for i in range(start, len(lst)):\n",
    "            current.append(lst[i])\n",
    "            helper(current, i + 1)\n",
    "            current.pop()  # backtrack\n",
    "\n",
    "    helper([], 0)\n",
    "    return result\n",
    "\n",
    "# Example:\n",
    "print(combinations([1, 2, 3, 4], 2))\n",
    "# ➝ [[1, 2], [1, 3], [1, 4], [2, 3], [2, 4], [3, 4]]\n"
   ]
  },
  {
   "cell_type": "code",
   "execution_count": 156,
   "id": "80703000-7579-4a17-bdc1-1cd357f8f2c3",
   "metadata": {},
   "outputs": [
    {
     "data": {
      "text/plain": [
       "' A function in Python is a named block of reusable code that performs a specific task. It can take inputs (parameters), execute logic, and optionally return a result. You define it with the def keyword:\\n\\n\\n\\n1. Modularity & Abstraction\\nFunctions let you break a complex problem into smaller, logical parts. Each part does one thing, making code easier to read and understand \\n\\n2. Reusability\\nDefine a function once, and use it anywhere in your code—or across projects. This avoids duplicate code and ensures consistency .\\n\\n4. Isolation for Testing and Debugging\\nFunctions allow you to test small parts of your program independently, easing debugging efforts. Bugs are easier to find and fix when logic is isolated\\n\\n5. Scope Management\\nVariables inside functions are local, reducing the risk of name clashes and unintended side-effects across your codebase .'"
      ]
     },
     "execution_count": 156,
     "metadata": {},
     "output_type": "execute_result"
    }
   ],
   "source": [
    "# basic of fucntion\n",
    "#What is a function in Python, and why is it used?\n",
    "\n",
    "\"\"\" A function in Python is a named block of reusable code that performs a specific task. It can take inputs (parameters), execute logic, and optionally return a result. You define it with the def keyword:\n",
    "\n",
    "\n",
    "\n",
    "1. Modularity & Abstraction\n",
    "Functions let you break a complex problem into smaller, logical parts. Each part does one thing, making code easier to read and understand \n",
    "\n",
    "2. Reusability\n",
    "Define a function once, and use it anywhere in your code—or across projects. This avoids duplicate code and ensures consistency .\n",
    "\n",
    "4. Isolation for Testing and Debugging\n",
    "Functions allow you to test small parts of your program independently, easing debugging efforts. Bugs are easier to find and fix when logic is isolated\n",
    "\n",
    "5. Scope Management\n",
    "Variables inside functions are local, reducing the risk of name clashes and unintended side-effects across your codebase .\"\"\"\n",
    "\n"
   ]
  },
  {
   "cell_type": "code",
   "execution_count": 159,
   "id": "b23de270-9145-4322-8ba7-6b3e9c4bfd7a",
   "metadata": {},
   "outputs": [
    {
     "name": "stdout",
     "output_type": "stream",
     "text": [
      "Hello, deepak!\n"
     ]
    }
   ],
   "source": [
    "# How do you define a function in Python? Provide an example.\n",
    "\n",
    "\"\"\" In Python, you define a function using the def keyword, followed by:\n",
    "\n",
    "The function name\n",
    "\n",
    "Parentheses () (which may include parameters)\n",
    "\n",
    "A colon :\n",
    "\n",
    "An indented block called the function body\n",
    "\n",
    "Optionally, you include a docstring to explain what the function does, and use a return statement to give back a result.\"\"\"\n",
    "\n",
    "def greet(name):\n",
    "    \"\"\"Print a greeting to the given name.\"\"\"\n",
    "    print(f\"Hello, {name}!\")\n",
    "\n",
    "greet(\"deepak\")"
   ]
  },
  {
   "cell_type": "code",
   "execution_count": null,
   "id": "901b4a70-435a-4df4-b08a-ac9a3225d1b5",
   "metadata": {},
   "outputs": [],
   "source": [
    "# Explain the difference between a function definition and a function call.\n",
    "\n",
    "\n",
    "\"\"\" \n",
    "Function Definition\n",
    "What it is: The blueprint or recipe for a function. It tells Python:\n",
    "\n",
    "The function’s name\n",
    "\n",
    "Its parameters\n",
    "\n",
    "What code to run when it's invoked\n",
    "\n",
    "Syntax:\n",
    "\n",
    "python\n",
    "Copy\n",
    "Edit\n",
    "def greet(name):\n",
    "    print(f\"Hello, {name}!\")\n",
    "What happens at runtime: Python reads the def block and creates a function object—but does not execute its body. It just stores it for later use\"\"\""
   ]
  },
  {
   "cell_type": "code",
   "execution_count": 160,
   "id": "69849802-dbdd-4cc5-aba7-161f04a36789",
   "metadata": {},
   "outputs": [
    {
     "data": {
      "text/plain": [
       "9"
      ]
     },
     "execution_count": 160,
     "metadata": {},
     "output_type": "execute_result"
    }
   ],
   "source": [
    "#Write a Python program that defines a function to calculate the sum of two numbers and then calls the function.\n",
    "\n",
    "\n",
    "def sum_of_two(a,b):\n",
    "    return a+b\n",
    "\n",
    "sum_of_two(5,4)"
   ]
  },
  {
   "cell_type": "code",
   "execution_count": null,
   "id": "0fb3c0d8-97ae-4206-9d7d-d5f6771c9412",
   "metadata": {},
   "outputs": [],
   "source": [
    "# What is a function signature, and what information does it typically include?\n",
    "\n",
    "\"\"\" A function signature describes a function’s “interface” — basically, how you use it. In Python and many languages, it typically includes:\n",
    "\n",
    "🔹 1. Function Name\n",
    "The identifier used to call the function (e.g., add, calculate_total).\n",
    "\n",
    "🔹 2. Parameter List\n",
    "The number, order, and (optionally) types of inputs the function accepts.\n",
    "\n",
    "In Python, parameter kinds include positional-only, positional‑or‑keyword, keyword‑only, variable positional (*args), and variable keyword (**kwargs)\"\"\"\n",
    "\n",
    "\n"
   ]
  },
  {
   "cell_type": "code",
   "execution_count": 161,
   "id": "e7995ae7-207a-4f17-b6d7-96a9cabb9579",
   "metadata": {},
   "outputs": [
    {
     "name": "stdout",
     "output_type": "stream",
     "text": [
      "20\n"
     ]
    }
   ],
   "source": [
    "# Create a Python function that takes two arguments and returns their product.\n",
    "def multiply(x, y):\n",
    "    \"\"\"\n",
    "    Multiply two numbers and return the product.\n",
    "\n",
    "    Parameters:\n",
    "        x (int or float): The first number.\n",
    "        y (int or float): The second number.\n",
    "\n",
    "    Returns:\n",
    "        int or float: The product x * y.\n",
    "    \"\"\"\n",
    "    return x * y \n",
    "\n",
    "\n",
    "result = multiply(4, 5)\n",
    "print(result)"
   ]
  },
  {
   "cell_type": "code",
   "execution_count": 164,
   "id": "2bef52ee-c5e1-44f8-83e7-45a5c59899f3",
   "metadata": {},
   "outputs": [
    {
     "data": {
      "text/plain": [
       "'Hi, jai!'"
      ]
     },
     "execution_count": 164,
     "metadata": {},
     "output_type": "execute_result"
    }
   ],
   "source": [
    "# Write a Python program that defines a function with default argument values.\n",
    "\n",
    "def greet(name, message=\"Hi\"):\n",
    "    \"\"\"Return a greeting message.\"\"\"\n",
    "    return f\"{message}, {name}!\"\n",
    "\n",
    "\n",
    "greet(\"jai\")\n",
    "\n"
   ]
  },
  {
   "cell_type": "code",
   "execution_count": 165,
   "id": "cfac5804-b195-45cd-9215-dd87e8b0ae2e",
   "metadata": {},
   "outputs": [
    {
     "name": "stdout",
     "output_type": "stream",
     "text": [
      "Hello, Alice! You are 25 years old and live in Los Angeles.\n"
     ]
    }
   ],
   "source": [
    "#How do you use keyword arguments in Python function calls? Provide an example.\n",
    "\n",
    "#You can define a function with parameters that have default values, making them optional when calling the function:\n",
    "\n",
    "def greet(name, age=30, city=\"New York\"):\n",
    "    print(f\"Hello, {name}! You are {age} years old and live in {city}.\")\n",
    "\n",
    "\n",
    "greet(name=\"Alice\", age=25, city=\"Los Angeles\")"
   ]
  },
  {
   "cell_type": "code",
   "execution_count": null,
   "id": "b1a41237-a139-49f2-81f0-6d6f63f2ba3e",
   "metadata": {},
   "outputs": [],
   "source": [
    "# Create a Python function that accepts a variable number of arguments and calculates their sum.\n",
    "\n",
    "def calculate_sum(*args):\n",
    "    \"\"\"Return the sum of all provided arguments.\"\"\"\n",
    "    return sum(args)"
   ]
  },
  {
   "cell_type": "code",
   "execution_count": 166,
   "id": "689c7868-54c2-442f-b4d4-9d399551c078",
   "metadata": {},
   "outputs": [
    {
     "data": {
      "text/plain": [
       "' \\n *args: Variable Positional Arguments\\nPurpose: Allows a function to accept an arbitrary number of positional arguments.\\n\\nHow it works: Collects extra positional arguments as a tuple\\n\\n **kwargs: Variable Keyword Arguments\\nPurpose: Allows a function to accept an arbitrary number of keyword arguments.\\n\\nHow it works: Collects extra keyword arguments as a dictionary'"
      ]
     },
     "execution_count": 166,
     "metadata": {},
     "output_type": "execute_result"
    }
   ],
   "source": [
    "# What is the purpose of the `*args` and `**kwargs` syntax in function parameter lists?\n",
    "\n",
    "\n",
    "\"\"\" \n",
    " *args: Variable Positional Arguments\n",
    "Purpose: Allows a function to accept an arbitrary number of positional arguments.\n",
    "\n",
    "How it works: Collects extra positional arguments as a tuple\n",
    "\n",
    " **kwargs: Variable Keyword Arguments\n",
    "Purpose: Allows a function to accept an arbitrary number of keyword arguments.\n",
    "\n",
    "How it works: Collects extra keyword arguments as a dictionary\"\"\""
   ]
  },
  {
   "cell_type": "code",
   "execution_count": null,
   "id": "475f7266-7faa-4800-bdf3-a43dffefbd45",
   "metadata": {},
   "outputs": [],
   "source": [
    "# Return Values and Scoping:\n",
    "\n",
    "\n",
    "\"\"\" In Python, the return statement serves a crucial role in functions by allowing them to send back a result to the caller and terminate their execution. Here's an overview:\n",
    "\n",
    "🔍 Purpose of the return Statement\n",
    "Exits the Function: When a return statement is executed, the function terminates immediately, and control is passed back to the caller.\n",
    "\n",
    "Sends a Value Back: The expression following return is evaluated, and its value is sent back to the caller. If no expression is provided, None is returned by default.\"\"\""
   ]
  },
  {
   "cell_type": "code",
   "execution_count": null,
   "id": "b8a6837d-ce4c-44c8-935c-05f6118e4f8f",
   "metadata": {},
   "outputs": [],
   "source": [
    "# Explain the concept of variable scope in Python, including local and global variables\n",
    "\n",
    "\n",
    "\"\"\" In Python, variable scope defines the region of the program where a variable can be accessed or modified. Understanding scope is crucial for writing clear and bug-free code, as it determines the visibility and lifetime of variables.\"\"\"\n",
    "\n",
    "\n",
    "\"\"\"Python resolves variable names using the LEGB rule, which stands for:\n",
    "nicepython.com\n",
    "+1\n",
    "realpython.com\n",
    "+1\n",
    "\n",
    "Local (L): Variables defined within the current function.\n",
    "\n",
    "Enclosing (E): Variables in the scope of any enclosing functions (nested functions).\n",
    "\n",
    "Global (G): Variables defined at the top level of the script or module.\n",
    "\n",
    "Built-in (B): Names preassigned in Python, like print(), len(), etc\"\"\"\n"
   ]
  },
  {
   "cell_type": "code",
   "execution_count": null,
   "id": "3da9ed23-bf5b-4d65-a35f-155cbb9e2fc7",
   "metadata": {},
   "outputs": [],
   "source": [
    "# Write a Python program that demonstrates the use of global variables within functions.\n",
    "\n",
    "\n",
    "x = 20  # Global variable\n",
    "\n",
    "def my_func():\n",
    "    print(x)  # Accessing global variable\n",
    "\n",
    "my_func()  # Output: 20\n",
    "print(x)   # Output: 20"
   ]
  },
  {
   "cell_type": "code",
   "execution_count": 169,
   "id": "ac08a369-8ebe-4406-9051-19627a678c6b",
   "metadata": {},
   "outputs": [
    {
     "data": {
      "text/plain": [
       "120"
      ]
     },
     "execution_count": 169,
     "metadata": {},
     "output_type": "execute_result"
    }
   ],
   "source": [
    "# Create a Python function that calculates the factorial of a number and returns it.\n",
    "def factorial_iterative(n):\n",
    "    result = 1\n",
    "    for i in range(1, n + 1):\n",
    "        result *= i\n",
    "    return result\n",
    "\n",
    "factorial_iterative(5)\n",
    "\n"
   ]
  },
  {
   "cell_type": "code",
   "execution_count": 170,
   "id": "b02a5a6a-7990-4511-a7b7-86b8e3cd7ad8",
   "metadata": {},
   "outputs": [
    {
     "name": "stdout",
     "output_type": "stream",
     "text": [
      "Python is awesome\n"
     ]
    }
   ],
   "source": [
    "#How can you access variables defined outside a function from within the function?\n",
    "\n",
    "\n",
    "x = \"awesome\"\n",
    "\n",
    "def myfunc():\n",
    "    print(\"Python is \" + x)\n",
    "\n",
    "myfunc()"
   ]
  },
  {
   "cell_type": "code",
   "execution_count": null,
   "id": "01851b0f-6888-41ae-9ef1-096f6311eb39",
   "metadata": {},
   "outputs": [],
   "source": [
    "#Lambda Functions and Higher-Order Functions:\n",
    "\n",
    "\n",
    "#What are lambda functions in Python, and when are they typically used?\n",
    "\"\"\"In Python, a lambda function is a concise, anonymous function defined using the lambda keyword. These functions are often used for short-lived operations where defining a full function with def would be unnecessarily verbose\"\"\"\n"
   ]
  },
  {
   "cell_type": "code",
   "execution_count": null,
   "id": "972a560e-23c0-4056-95c0-e8c995390c5a",
   "metadata": {},
   "outputs": [],
   "source": [
    "# Write a Python program that uses lambda functions to sort a list of tuples based on the second element\n",
    "\n",
    "# List of tuples\n",
    "data = [('apple', 3), ('pear', 5), ('banana', 1), ('lime', 4)]\n",
    "\n",
    "# Sort by the second element (index 1) using a lambda function\n",
    "sorted_data = sorted(data, key=lambda x: x[1])\n",
    "\n",
    "print(sorted_data)\n"
   ]
  },
  {
   "cell_type": "code",
   "execution_count": null,
   "id": "539ebff4-69ba-4e32-b92d-aa9f39d497cf",
   "metadata": {},
   "outputs": [],
   "source": [
    "# Explain the concept of higher-order functions in Python, and provide an example.\n",
    "\n",
    "\"\"\" In Python, a higher-order function is a function that either:\n",
    "\n",
    "Takes one or more functions as arguments, or\n",
    "\n",
    "Returns a function as its result\"\"\"\n",
    "\n",
    "def multiplier(factor):\n",
    "    return lambda x: x * factor\n",
    "\n",
    "double = multiplier(2)\n",
    "triple = multiplier(3)\n",
    "\n",
    "print(double(5))  # Output: 10\n",
    "print(triple(5))  # Output: 15\n"
   ]
  },
  {
   "cell_type": "code",
   "execution_count": 172,
   "id": "8ae9d561-6c20-4e67-be5b-a9b6e5907113",
   "metadata": {},
   "outputs": [
    {
     "name": "stdout",
     "output_type": "stream",
     "text": [
      "[1, 4, 9, 16, 25]\n"
     ]
    }
   ],
   "source": [
    "# Create a Python function that takes a list of numbers and a function as arguments, applying the function to each element in the list\n",
    "\n",
    "def apply_to_each(func, numbers):\n",
    "    return [func(x) for x in numbers]\n",
    "\n",
    "def square(x):\n",
    "    return x * x\n",
    "\n",
    "numbers = [1, 2, 3, 4, 5]\n",
    "\n",
    "# Apply the square function to each element\n",
    "squared_numbers = apply_to_each(square, numbers)\n",
    "print(squared_numbers)"
   ]
  },
  {
   "cell_type": "code",
   "execution_count": null,
   "id": "c42e5a37-ae32-43a1-976e-cc776ebda421",
   "metadata": {},
   "outputs": [],
   "source": [
    "# Explain the purpose of docstrings in Python functions and how to write them.\n",
    "\n",
    "\"\"\" In Python, docstrings (documentation strings) are special string literals used to describe the purpose, behavior, and usage of functions, classes, and modules. They serve as the primary means of documenting code, making it more understandable and maintainable.\"\"\""
   ]
  },
  {
   "cell_type": "code",
   "execution_count": null,
   "id": "471834a8-f67f-48c7-8115-26c635289127",
   "metadata": {},
   "outputs": [],
   "source": [
    "# Describe some best practices for naming functions and variables in Python, including naming conventions and guidelines.\n",
    "\n",
    "\n",
    "\"\"\" Use lowercase letters: Function and variable names should be in lowercase, with words separated by underscores to improve readability. This style is known as snake_case\"\"\""
   ]
  },
  {
   "cell_type": "code",
   "execution_count": null,
   "id": "2a0635c8-eb5e-413b-a746-02d7eaf798ff",
   "metadata": {},
   "outputs": [],
   "source": []
  },
  {
   "cell_type": "code",
   "execution_count": null,
   "id": "ca8038a6-3a74-4fa2-8262-5e8a4b198d40",
   "metadata": {},
   "outputs": [],
   "source": []
  },
  {
   "cell_type": "code",
   "execution_count": null,
   "id": "3e5b9743-5806-40ce-b803-1d578e0c581f",
   "metadata": {},
   "outputs": [],
   "source": []
  }
 ],
 "metadata": {
  "kernelspec": {
   "display_name": "Python 3 (ipykernel)",
   "language": "python",
   "name": "python3"
  },
  "language_info": {
   "codemirror_mode": {
    "name": "ipython",
    "version": 3
   },
   "file_extension": ".py",
   "mimetype": "text/x-python",
   "name": "python",
   "nbconvert_exporter": "python",
   "pygments_lexer": "ipython3",
   "version": "3.12.7"
  }
 },
 "nbformat": 4,
 "nbformat_minor": 5
}
